{
  "nbformat": 4,
  "nbformat_minor": 0,
  "metadata": {
    "colab": {
      "provenance": []
    },
    "kernelspec": {
      "name": "python3",
      "display_name": "Python 3"
    },
    "language_info": {
      "name": "python"
    }
  },
  "cells": [
    {
      "cell_type": "markdown",
      "source": [],
      "metadata": {
        "id": "L1PPpIn24b_3"
      }
    },
    {
      "cell_type": "code",
      "source": [
        "# Data Structure"
      ],
      "metadata": {
        "id": "2U_ik89s48BP"
      },
      "execution_count": null,
      "outputs": []
    },
    {
      "cell_type": "markdown",
      "source": [
        "# Q1. What are data structures and why are they important?\n",
        "\n",
        "Data structures are ways of organizing and storing data in a computer so that it can be accessed and modified efficiently. Think of them like containers or blueprints that help manage and operate on data depending on what you need to do with it.\n",
        "\n",
        " >Why Are Data Structures Important?\n",
        "\n",
        "Efficiency: The right data structure makes your program faster and more efficient. For example, searching in a hash table is often O(1), while searching in a list is O(n).\n",
        "\n",
        "Code Clarity:\n",
        "\n",
        "Good structures lead to cleaner, easier-to-understand code.\n",
        "\n",
        "Scalability:\n",
        "\n",
        "Helps systems handle large amounts of data smoothly.\n",
        "\n",
        "Problem Solving:\n",
        "\n",
        "Many algorithms are based on specific data structures (e.g., using trees for searching/sorting, or graphs for pathfinding).\n",
        "\n"
      ],
      "metadata": {
        "id": "qypKJGdX5aqC"
      }
    },
    {
      "cell_type": "markdown",
      "source": [
        "Q2. Explain the difference between mutable and immutable data types with examples\n",
        "\n",
        "The difference between mutable and immutable data types in programming (especially in Python) lies in whether or not the object’s value can be changed after it's created.\n",
        "\n",
        ">Mutable Data Types\n",
        "\n",
        "Definition: Mutable objects can be changed in place after they are created.\n",
        "\n",
        "Examples: list, dict, set, bytearray\n",
        "\n",
        "my_list = [1, 2, 3]\n",
        "\n",
        "my_list[0] = 10\n",
        "\n",
        "print(my_list)  # Output: [10, 2, 3]\n",
        "\n",
        "Here, the list my_list is mutable because we changed the first element without creating a new list.\n",
        "\n",
        ">Immutable Data Types\n",
        "\n",
        "Definition: Immutable objects cannot be changed after they are created. Any operation that seems to change them actually creates a new object.\n",
        "\n",
        "Examples: int, float, str, tuple, frozenset, bytes\n",
        "\n",
        "my_str = \"hello\"\n",
        "\n",
        "my_str[0] = 'H'  #  This will cause an error\n",
        "\n",
        "Instead, you have to create a new string:\n",
        "\n",
        "new_str = \"H\" + my_str[1:]\n",
        "\n",
        "print(new_str)  # Output: \"Hello\"\n",
        "\n",
        "The original string stays unchanged—hence, strings are immutable.\n"
      ],
      "metadata": {
        "id": "0uybbFvGATMf"
      }
    },
    {
      "cell_type": "markdown",
      "source": [
        "Q.3.What are the main differences between lists and tuples in Python?\n",
        "\n",
        "Lists and tuples are both sequence data types in Python, but they have some key differences. Here's a clear breakdown:\n",
        "\n",
        " >>Lists vs Tuples\n",
        "\n",
        "\n",
        "     Feature\t                List\t                            Tuple\n",
        "\n",
        "     Mutability\t            Mutable\t                          Immutable\n",
        "\n",
        "     Syntax\t             Square brackets: [1, 2, 3]       \tParentheses: (1, 2, 3)\n",
        "\n",
        "     Can change size\t  Yes (can add/remove items)\t     No (fixed size once created)\n",
        "\n",
        "     Performance\t       Slightly slower\t           Slightly faster (due to immutability)\n",
        "\n",
        "     Use case        \tWhen data may change\t        When data should not change (e.g., constants)\n",
        "\n",
        "     Methods available\tMany (e.g., append(), remove())\t  Fewer (e.g., count(), index())\n",
        "\n",
        "     Hashable\t        No (can’t be dict keys)\t      Yes, if elements are hashable\n",
        "  \n",
        "\n",
        "Exemples\n",
        "\n",
        ">List\n",
        "\n",
        "my_list = [1, 2, 3]\n",
        "\n",
        "my_list.append(4)\n",
        "\n",
        "print(my_list)  # [1, 2, 3, 4]\n",
        "\n",
        ">Tuple\n",
        "\n",
        "my_tuple = (1, 2, 3)\n",
        "\n",
        "my_tuple[0] = 10  # This will raise an error\n"
      ],
      "metadata": {
        "id": "AHLpfk2_EYV6"
      }
    },
    {
      "cell_type": "markdown",
      "source": [
        "Q.4. Describe how dictionaries store data\n",
        "\n",
        "Dictionaries in Python store data as key-value pairs, using a data structure called a hash table under the hood. Here's a breakdown of how it works:\n",
        "\n",
        "Dictionary Basics\n",
        "Format: {key: value}\n",
        "\n",
        "Example:\n",
        "\n",
        "person = {\n",
        "    \"name\": \"Alice\",\n",
        "    \"age\": 30,\n",
        "    \"city\": \"New York\"\n",
        "}\n",
        "\n",
        "In this example:\n",
        "\n",
        "\"name\", \"age\", and \"city\" are keys\n",
        "\n",
        "\"Alice\", 30, and \"New York\" are their corresponding values\n",
        "\n",
        ">How Data Is Stored Internally\n",
        "\n",
        "Hashing:\n",
        "\n",
        "When you use a key, Python passes it through a hash function (hash()) to generate a unique identifier (a hash code).\n",
        "\n",
        "This hash code determines where the key-value pair will be stored in memory.\n",
        "\n",
        "Indexing:\n",
        "\n",
        "The hash code is used to find a specific slot in an internal array (like a table of buckets).\n",
        "\n",
        "Each slot holds a key-value pair.\n",
        "\n",
        "Handling Collisions:\n",
        "\n",
        "Sometimes, two different keys can produce the same hash code (a collision).\n",
        "\n",
        "Python handles this using open addressing or chaining, depending on the implementation.\n",
        "\n",
        "Accessing Data:\n",
        "\n",
        "When you retrieve a value using a key, Python re-hashes the key and looks up the corresponding slot—making it super fast (average O(1) time complexity).\n",
        "\n",
        "Key Points\n",
        "\n",
        "Keys must be immutable (e.g., strings, numbers, tuples), so they can be hashed.\n",
        "\n",
        "Values can be any data type, including other dictionaries.\n",
        "\n",
        "Dictionaries are unordered before Python 3.7, and insertion ordered from Python 3.7+.\n",
        "\n"
      ],
      "metadata": {
        "id": "CCAIYxBSHF9W"
      }
    },
    {
      "cell_type": "markdown",
      "source": [
        "Q.5. Why might you use a set instead of a list in Python?\n",
        "\n",
        "You might choose a set over a list in Python when certain needs or constraints make sets a better fit. Here’s the lowdown:\n",
        "\n",
        "When to Use a set Instead of a list\n",
        "\n",
        "     Reason\t                       Explanation\n",
        "     No Duplicates\t      Sets automatically remove duplicates.\n",
        "     Faster Lookups\t     Sets use hashing, so checking if an item exists is much faster (average O(1) vs O(n) in lists).\n",
        "     Set Operations\t     Sets support powerful operations like union, intersection, and difference, which are useful for things like comparing datasets.\n",
        "\n",
        "Exemple\n",
        "\n",
        ">Remove Duplication\n",
        "\n",
        "numbers = [1, 2, 2, 3, 4, 4]\n",
        "\n",
        "unique = set(numbers)\n",
        "\n",
        "print(unique)  # {1, 2, 3, 4}\n",
        "\n",
        ">First Membership test\n",
        "\n",
        "items = set([\"apple\", \"banana\", \"cherry\"])\n",
        "\n",
        "print(\"banana\" in items)  # ✅ Fast check\n",
        "\n",
        ">Set Operations\n",
        "\n",
        "a = {\"apple\", \"banana\"}\n",
        "\n",
        "b = {\"banana\", \"cherry\"}\n",
        "\n",
        "print(a & b)  # {'banana'} → intersection\n",
        "\n",
        "print(a | b)  # {'apple', 'banana', 'cherry'} → union\n"
      ],
      "metadata": {
        "id": "yEz0OPPwJLtX"
      }
    },
    {
      "cell_type": "markdown",
      "source": [
        "Q.6. What is a string in Python, and how is it different from a list?\n",
        "\n",
        "A string is a sequence of characters, used to represent text.\n",
        "\n",
        "Example:\n",
        "\n",
        "name = \"Dev\"\n",
        "\n",
        "\"Dev\" is a string.\n",
        "\n",
        "Strings are enclosed in single (') or double quotes (\").\n",
        "\n",
        "You can also use triple quotes (''' or \"\"\") for multi-line strings.\n",
        "\n",
        "A list is an ordered collection of items (elements), which can be of any data type—not just characters.\n",
        "\n",
        "Example:\n",
        "\n",
        "my_list = [\"A\", \"l\", \"i\", \"c\", \"e\"]\n",
        "\n",
        "Here, each character is a separate element in a list.\n",
        "\n",
        "Lists are written in square brackets ([]).\n"
      ],
      "metadata": {
        "id": "NQSpG8hhLhAY"
      }
    },
    {
      "cell_type": "markdown",
      "source": [
        "Q.7.How do tuples ensure data integrity in Python?\n",
        "\n",
        "Tuples in Python help ensure data integrity mainly because of their immutability. Let’s break down what that means and how it keeps your data safe and sound:\n",
        "\n",
        ">Immutability = Data Integrity\n",
        "\n",
        "Tuples are immutable, meaning once you create a tuple, you cannot change, add, or remove any of its elements.\n",
        "\n",
        "This prevents accidental changes to the data—either by you, other parts of your program, or even other developers using your code.\n",
        "\n",
        "Example:\n",
        "\n",
        "coordinates = (40.7128, -74.0060)  # Latitude & Longitude\n",
        "\n",
        "This would raise an error:\n",
        "\n",
        "coordinates[0] = 41.0000\n",
        "\n",
        "Because the coordinates tuple can't be changed, the original values remain protected—preserving accuracy and reliability.\n",
        "\n",
        ">>Why This Ensures Integrity:\n",
        "\n",
        ">Predictability:\n",
        "\n",
        "Tuples guarantee that their contents stay the same over time.\n",
        "\n",
        "This is especially useful in situations where data should not be altered (like configurations, fixed records, or constants).\n",
        "\n",
        ">Safe to Use as Keys:\n",
        "\n",
        "Tuples can be used as dictionary keys or elements in a set (as long as their contents are also immutable).\n",
        "\n",
        "Lists can’t do that because they’re mutable and therefore not hashable.\n",
        "\n",
        "record = {(2023, \"Q1\"): \"Revenue Data\"}  #  tuple as key\n",
        "\n",
        ">Functional Programming Style:\n",
        "\n",
        "In functional programming, immutability is a core principle for safe, side-effect-free code.\n",
        "\n",
        "Tuples support that style by ensuring your data structures can’t be accidentally changed.\n",
        "\n",
        ">Summary:\n",
        "\n",
        "Tuples ensure data integrity by:\n",
        "\n",
        "Preventing changes after creation\n",
        "\n",
        "Being reliable containers for fixed sets of values\n",
        "\n",
        "Enabling use as hashable keys in sets and dictionaries\n",
        "\n",
        "Supporting safer, cleaner programming practices\n",
        "\n"
      ],
      "metadata": {
        "id": "8HjYGmkxMdt9"
      }
    },
    {
      "cell_type": "markdown",
      "source": [
        "Q.8. What is a hash table, and how does it relate to dictionaries in Python?\n",
        "\n",
        ">What is a Hash Table?\n",
        "\n",
        "A hash table is a data structure that stores key-value pairs and allows fast access to values using their keys.\n",
        "\n",
        ">Core idea:\n",
        "\n",
        "Hash function takes a key and turns it into a hash code (a number).\n",
        "\n",
        "That number is used as an index to store the value in an internal array.\n",
        "\n",
        "When you want to find the value again, Python just hashes the key again and jumps to the spot. Super fast!\n",
        "\n",
        ">How It Relates to Dictionaries in Python\n",
        "\n",
        "Python’s dict is built on a hash table.\n",
        "\n",
        ">So when you do this:\n",
        "\n",
        "person = {\"name\": \"Alice\", \"age\": 30}\n",
        "\n",
        ">Here’s what happens under the hood:\n",
        "\n",
        "The key \"name\" is passed through a hash function → produces a unique number (hash).\n",
        "\n",
        "Python uses that number to find a spot in memory to store the value \"Alice\".\n",
        "\n",
        "Later, when you access person[\"name\"], Python hashes the key again and goes directly to the stored value.\n",
        "\n",
        " Fast access\n",
        "\n",
        " Efficient storage\n",
        "\n",
        " Keys don’t have to be in order\n",
        "\n"
      ],
      "metadata": {
        "id": "9iOm7BcYOK5g"
      }
    },
    {
      "cell_type": "markdown",
      "source": [
        "Q.9. Can lists contain different data types in Python?\n",
        "\n",
        "Lists in Python can contain different data types.\n",
        "\n",
        "Unlike some languages that enforce strict types for list elements (like Java or C++), Python lists are dynamic and flexible. You can mix and match types in a single list without any issue.\n",
        "\n",
        " Example:\n",
        "\n",
        "my_list = [42, \"hello\", 3.14, True, [1, 2], {\"key\": \"value\"}]\n",
        "\n",
        "print(my_list)  # Output: [42, 'hello', 3.14, True, [1, 2], {'key': 'value'}]\n",
        "\n",
        "In this one list, you have:\n",
        "\n",
        "An int\n",
        "\n",
        "A str\n",
        "\n",
        "A float\n",
        "\n",
        "A bool\n",
        "\n",
        "Another list\n",
        "\n",
        "A dict\n",
        "\n",
        "Totally valid in Python!\n",
        "\n",
        ">Why It Works\n",
        "\n",
        "Python is dynamically typed, meaning:\n",
        "\n",
        "Variables (and list elements) don’t need a fixed type.\n",
        "\n",
        "Each item in a list is just a reference to an object, regardless of its type.\n",
        "\n"
      ],
      "metadata": {
        "id": "08-aAA8WP0LC"
      }
    },
    {
      "cell_type": "markdown",
      "source": [
        "Q.10. Explain why strings are immutable in Python.\n",
        "\n",
        "Understanding why strings are immutable in Python helps make sense of how Python manages memory, performance, and security. Let's break it down:\n",
        "\n",
        ">First, What Does \"Immutable\" Mean?\n",
        "\n",
        "An immutable object is one that cannot be changed after it's created. For strings, this means:\n",
        "\n",
        "\n",
        "s = \"hello\"\n",
        "\n",
        "s[0] = \"H\"  #  This will raise an error\n",
        "\n",
        "instade you have to create new string:\n",
        "\n",
        "s = \"H\" + s[1:]\n",
        "\n",
        "print(s) # \"Hello\"\n",
        "\n",
        "So why are string immutable\n",
        "\n",
        " >Efficiency & Memory Optimization\n",
        "\n",
        "\n",
        "Strings are used a LOT in programs (e.g., variable names, file paths, keys).\n",
        "\n",
        "Immutability allows safe sharing and reuse of string objects in memory (a process called string interning).\n",
        "\n",
        "Python can store only one copy of common strings and reuse them—saving space and improving speed.\n",
        "\n",
        "a = \"hello\"\n",
        "\n",
        "b = \"hello\"\n",
        "\n",
        "print(a is b)  # True ( same memory location thank to interning)\n",
        "\n",
        ">Hashing for Dictionaries & Sets\n",
        "\n",
        "Strings need to be hashable to be used as keys in dictionaries or elements in sets.\n",
        "\n",
        "For an object to be hashable, its value must not change—immutability ensures that.\n",
        "\n",
        "my_dict = {\"name\": \"Alice\"} # work because name is imutable\n",
        "\n",
        "If strings could change, the hash could change too, and that would break the dictionary.\n",
        "\n",
        "\n",
        ">Safety and Predictability\n",
        "\n",
        "Because strings can’t be changed, they’re safer to use in shared code.\n",
        "\n",
        "No unexpected side effects—what you pass around stays exactly the same.\n",
        "\n",
        ">Consistency with Other Immutable Types\n",
        "\n",
        "Like int, float, and tuple, strings are immutable by design.\n",
        "\n",
        "This keeps behavior consistent across core data types in Python.\n",
        "\n",
        "\n",
        "\n",
        "\n",
        "\n",
        "\n"
      ],
      "metadata": {
        "id": "Nileq1TNQgC5"
      }
    },
    {
      "cell_type": "markdown",
      "source": [
        "Q.11.What advantages do dictionaries offer over lists for certain tasks?\n",
        "\n",
        "Dictionaries and lists both have their strengths, but dictionaries shine when you're working with key-value relationships and need fast access to data.\n",
        "\n",
        "\n",
        "\n",
        "Advantages of Dictionaries Over Lists\n",
        "\n",
        "    Advantage\t              Description\t                             Example\n",
        "    Fast Lookups\t  Dictionaries offer O(1) average-time lookup by key, while lists require O(n) searches by value or index.\t  my_dict[\"username\"] is way faster than looping through a list to find a user.\n",
        "\n",
        "    Key-Value Pairing\t Perfect when you need to associate values with unique identifiers (keys).\t  {\"name\": \"Alice\", \"age\": 30} instead of [\"Alice\", 30]\n",
        "\n",
        "    Improved Readability\t Data is more descriptive when stored with keys.\t user[\"email\"] is clearer than user[2]\n",
        "\n",
        "    No Need to Remember Order\t  You don’t have to rely on position/index to access data.   \tWith a list, user[1] could be anything. With a dict, user[\"age\"] is always age.\n",
        "\n",
        "    Easy Data Modeling\t   Great for representing structured data (like JSON or database rows).\t    Nested dicts make building APIs and configs cleaner."
      ],
      "metadata": {
        "id": "whb9TzhEE0YK"
      }
    },
    {
      "cell_type": "markdown",
      "source": [
        "Q.12.  Describe a scenario where using a tuple would be preferable over a list?\n",
        "\n",
        "Scenario: Representing Coordinates or Fixed Data\n",
        "\n",
        "Imagine you're working with GPS coordinates for a mapping application:\n",
        "\n",
        "location = (40.07633, -73.907) #new york city\n",
        "\n",
        "Why a tuple is better than a list here:\n",
        "\n",
        "      Reason\t                                                Explanation\n",
        "     Data should not change\t    Latitude and longitude are fixed for a location. Tuples protect this from accidental modification.\n",
        "\n",
        "     Semantic clarity\t         Tuples signal that this is a fixed set of values, not a collection to be modified.\n",
        "\n",
        "     Hashable\t                 You can use tuples as keys in dictionaries or elements in sets—lists can't do this.\n",
        "\n",
        "     Faster & lighter\t         Tuples have slightly better performance and use less memory than lists.\n",
        "\n",
        "  Exemple:\n",
        "\n",
        "  city_coords = {\n",
        "\n",
        "  (\"New York\", \"USA\"): (40.7128, -74.0060),\n",
        "  (\"Tokyo\", \"Japan\"): (35.6895, 139.6917)\n",
        "}\n",
        "\n",
        "The keys are tuples combining city and country—immutable and hashable.\n",
        "\n",
        "The values are also tuples—fixed latitude and longitude.\n",
        "\n"
      ],
      "metadata": {
        "id": "32bMec1iHJGu"
      }
    },
    {
      "cell_type": "markdown",
      "source": [
        "Q.13. How do sets handle duplicate values in Python?\n",
        "\n",
        "Sets automatically remove duplicates. They are designed to store only unique elements—no repeats allowed.\n",
        "\n",
        "Exemple\n",
        "\n",
        "my_set = {1, 2, 2, 3, 4, 4, 4}\n",
        "\n",
        "print(my_set)  # Output: {1, 2, 3, 4}\n",
        "\n",
        "\n",
        "\n"
      ],
      "metadata": {
        "id": "dvmJSDVDJVr1"
      }
    },
    {
      "cell_type": "markdown",
      "source": [
        "Q.14. How does the “in” keyword work differently for lists and dictionaries\n",
        "\n",
        "The in keyword is super useful in Python—but it behaves a bit differently depending on whether you’re working with a list or a dictionary. Let’s break it down:\n",
        "\n",
        ">in with Lists\n",
        "\n",
        "When you use in with a list, Python checks if the value exists anywhere in the list.\n",
        "\n",
        "Example:\n",
        "\n",
        "fruits = [\"apple\", \"banana\", \"cherry\"]\n",
        "\n",
        "print(\"banana\" in fruits)  #  True\n",
        "\n",
        "print(\"grape\" in fruits)   #  False\n",
        "\n",
        " Checks elements (values).\n",
        "\n",
        " Slower for large lists — it searches linearly (O(n)).\n",
        "\n",
        "> in with Dictionaries\n",
        "\n",
        "When you use in with a dictionary, Python checks if the value exists as a key — not a value.\n",
        "\n",
        "Example:\n",
        "\n",
        "person = {\"name\": \"Alice\", \"age\": 30}\n",
        "\n",
        "print(\"name\" in person)   #  True (key)\n",
        "\n",
        "print(\"Alice\" in person)  #  False (value, not a key)\n",
        "\n",
        " Checks keys only by default.\n",
        "\n",
        " Fast lookup — thanks to hashing (O(1))."
      ],
      "metadata": {
        "id": "LzSZ3UHoKLX9"
      }
    },
    {
      "cell_type": "markdown",
      "source": [
        "Q.15.Can you modify the elements of a tuple? Explain why or why not.\n",
        "\n",
        "No, you cannot directly modify the elements of a tuple.\n",
        "\n",
        "That’s because tuples are immutable.\n",
        "\n",
        ">What Does \"Immutable\" Mean?\n",
        "\n",
        "Once a tuple is created, its elements cannot be changed, added to, or removed.\n",
        "\n",
        "Example:\n",
        "\n",
        "my_tuple = (1, 2, 3)\n",
        "\n",
        "my_tuple[0] = 10  #  This will raise a TypeError\n",
        "\n",
        ">Why Are Tuples Immutable?\n",
        "\n",
        " >Data Integrity:\n",
        "\n",
        " Prevents accidental changes to fixed sets of data.\n",
        "\n",
        ">Hashable:\n",
        "\n",
        " Tuples can be used as keys in dictionaries (only if all elements are also immutable).\n",
        "\n",
        ">Performance:\n",
        "\n",
        " Slightly faster and more memory-efficient than lists.\n",
        "\n",
        "\n",
        " But Here's a Twist...\n",
        "\n",
        "If a tuple contains mutable elements (like a list), the tuple itself is still immutable, but the contents of those mutable elements can be changed.\n",
        "\n",
        "Example:\n",
        "\n",
        "my_tuple = (1, [2, 3], 4)\n",
        "\n",
        "my_tuple[1][0] = 99\n",
        "\n",
        "print(my_tuple)  # (1, [99, 3], 4)\n",
        "\n",
        "So:\n",
        "\n",
        "You can’t replace the list at index 1.\n",
        "\n",
        "But you can modify the list because it’s a mutable object.\n",
        "\n",
        "\n"
      ],
      "metadata": {
        "id": "T40qdubdLBU5"
      }
    },
    {
      "cell_type": "markdown",
      "source": [
        "Q.16. What is a nested dictionary, and give an example of its use case?\n",
        "\n",
        "A nested dictionary is simply a dictionary inside another dictionary.\n",
        "\n",
        "It allows you to store complex structured data using key-value pairs at multiple levels.\n",
        "\n",
        "students_id = {\n",
        "    \"001\": {\n",
        "        \"name\": \"Alice\",\n",
        "        \"age\": 20,\n",
        "        \"grades\": {\"math\": 90, \"science\": 85}\n",
        "    },\n",
        "    \"002\": {\n",
        "        \"name\": \"Bob\",\n",
        "        \"age\": 22,\n",
        "        \"grades\": {\"math\": 78, \"science\": 88}\n",
        "    }\n",
        "}\n",
        "\n",
        "\n",
        "Here’s what we’ve got:\n",
        "\n",
        "The outer dictionary keys are student IDs (\"001\", \"002\")\n",
        "\n",
        "The values are dictionaries with student details\n",
        "\n",
        "Inside that, even more dictionaries for their grades\n",
        "\n",
        "\n"
      ],
      "metadata": {
        "id": "A0piXDg7mLyc"
      }
    },
    {
      "cell_type": "markdown",
      "source": [
        "Q.17.  Describe the time complexity of accessing elements in a dictionary.\n",
        "\n",
        "In Python, accessing an element in a dictionary by key:\n",
        "\n",
        "my_dict[\"some_key\"]\n",
        "\n",
        "Average Case: O(1) (constant time)\n",
        "\n",
        "Dictionary lookups are very fast.\n",
        "\n",
        "This is thanks to the underlying hash table structure.\n",
        "\n",
        "Python uses a hash function to jump directly to where the value is stored — no looping required.\n",
        "\n",
        " Worst Case: O(n) (very rare)\n",
        "\n",
        "Happens only when there are many hash collisions.\n",
        "\n",
        "In this case, Python has to search through a chain of items that all share the same hash.\n",
        "\n",
        "But Python is really good at minimizing this — so this scenario is rare.\n",
        "\n",
        " Summary Table:\n",
        "\n",
        "     Operation               \tTime Complexity\n",
        "\n",
        "     Access by key\t           O(1) average\n",
        "     Insert or update key\t    O(1) average\n",
        "     Delete by key\t           O(1) average\n",
        "     Worst case (collisions)    O(n) (rare)\n"
      ],
      "metadata": {
        "id": "BJ3qCzr1oJeT"
      }
    },
    {
      "cell_type": "markdown",
      "source": [
        "Q.18. In what situations are lists preferred over dictionaries\n",
        "\n",
        "Knowing when to use a list over a dictionary is key to writing clean, efficient Python code. Let’s break it down:\n",
        "\n",
        ">>Order Matters\n",
        "\n",
        "Lists preserve the order of items (especially useful if you care about sequence).\n",
        "\n",
        "steps = [\"start\", \"load data\", \"process\", \"save\", \"end\"]\n",
        "\n",
        ">>You Only Need Values (No Keys)\n",
        "\n",
        "If you don’t need to label or name your data, lists are simple and clean.\n",
        "\n",
        "colors = [\"red\", \"green\", \"blue\"]\n",
        "\n",
        ">>You’re Iterating Over Items Sequentially\n",
        "\n",
        "Lists are ideal for looping through items in a known order.\n",
        "\n",
        "for color in colors:\n",
        "\n",
        "  print(color)\n",
        "\n",
        ">>Index-Based Access is\n",
        "\n",
        "If you want to access items by position (like list[0]), use a list.\n",
        "\n",
        "first_item = colors[0]\n",
        "\n",
        ">>You're Storing Duplicates\n",
        "\n",
        "Lists allow duplicates — dictionaries do not.\n",
        "\n",
        "\n",
        "votes = [\"yes\", \"no\", \"yes\", \"yes\"]  # valid list with duplicates\n",
        "\n",
        ">>Simple Collections\n",
        "\n",
        "Great for small collections where key-value pairs would be overkill.\n",
        "\n",
        "\n"
      ],
      "metadata": {
        "id": "6S6NNBdbqGEC"
      }
    },
    {
      "cell_type": "markdown",
      "source": [
        "Q.19. Why are dictionaries considered unordered, and how does that affect data retrieval?\n",
        "\n",
        "Before Python 3.7, dictionaries were implemented in a way where the order of items wasn’t guaranteed. That means:\n",
        "\n",
        "You couldn’t rely on the order in which items were inserted.\n",
        "\n",
        "When you looped through a dictionary, the keys might come out in any order.\n",
        "\n",
        "Before Python 3.7 (unordered behavior)\n",
        "\n",
        "my_dict = {\"a\": 1, \"b\": 2, \"c\": 3} # Output order could be random when looping\n",
        "\n",
        "This is why dictionaries were considered unordered mappings.\n",
        "\n",
        "But Since Python 3.7+...\n",
        "\n",
        "Python dictionaries do preserve insertion order by default.\n",
        "\n",
        "my_dict = {\"a\": 1, \"b\": 2, \"c\": 3}\n",
        "\n",
        "for key in my_dict:\n",
        "\n",
        "print(key)  # Output: a, b, c (in order inserted)\n",
        "\n",
        "So technically, they act ordered, but the official Python language spec still classifies them primarily as mappings (not sequences).\n",
        "\n",
        "Does That Affect Data Retrieval?\n",
        "\n",
        "No — key-based access is always direct and fast (O(1)), regardless of order:\n",
        "\n",
        "print(my_dict[\"b\"])  # Always gives 2 — order doesn't matter here\n",
        "\n",
        "But  if you're relying on the order of items, be sure you're using Python 3.7+ (which is the norm now)."
      ],
      "metadata": {
        "id": "eiFS-fIUsDaD"
      }
    },
    {
      "cell_type": "markdown",
      "source": [
        "Q.20.Explain the difference between a list and a dictionary in terms of data retrieval.\n",
        "\n",
        " Let's break down the difference between a list and a dictionary in terms of how they handle data retrieval\n",
        "\n",
        ">>Main Difference: How You Access Data\n",
        "\n",
        "     Feature\t                List\t                     Dictionary\n",
        "     Access by\t        Index (number-based)\t           Key (name-based)\n",
        "     Data retrieval\t  Slower if searching by value (O(n))\tFast key lookup (O(1) average)\n",
        "     Structure      \tOrdered collection of values\tUnordered (pre-3.7), now insertion-ordered pairs\n",
        "     Example Access\t   my_list[0]                     \tmy_dict[\"name\"]\n",
        "       \n",
        "\n",
        "list exemple:\n",
        "\n",
        "fruits = [\"apple\", \"banana\", \"cherry\"]\n",
        "\n",
        "print(fruits[1])  # Output: \"banana\"\n",
        "\n",
        "Dictionary exemple:\n",
        "\n",
        "person = {\"name\": \"Alice\", \"age\": 30}\n",
        "\n",
        "print(person[\"name\"])  # Output: \"Alice\"\n"
      ],
      "metadata": {
        "id": "TuZneai3tvvw"
      }
    },
    {
      "cell_type": "code",
      "source": [
        "# Write a code to create a string with your name and print it.\n",
        "\n",
        "my_name = \"Deb Biswas\"\n",
        "print(my_name)"
      ],
      "metadata": {
        "colab": {
          "base_uri": "https://localhost:8080/"
        },
        "id": "tuJhz7sK_VWR",
        "outputId": "57ba69f6-1e94-485b-bb38-0b88cc1a2d1f"
      },
      "execution_count": null,
      "outputs": [
        {
          "output_type": "stream",
          "name": "stdout",
          "text": [
            "Deb Biswas\n"
          ]
        }
      ]
    },
    {
      "cell_type": "code",
      "source": [
        "2. # Write a code to find the length of the string \"Hello World\"\n",
        "\n",
        "text = \"Hello World\"\n",
        "print(len(text))"
      ],
      "metadata": {
        "colab": {
          "base_uri": "https://localhost:8080/"
        },
        "id": "8sQxwRHAA567",
        "outputId": "76c10795-68e0-4fff-dac9-ce44e5b329b4"
      },
      "execution_count": null,
      "outputs": [
        {
          "output_type": "stream",
          "name": "stdout",
          "text": [
            "11\n"
          ]
        }
      ]
    },
    {
      "cell_type": "code",
      "source": [
        "3. # Write a code to slice the first 3 characters from the string \"Python Programming\"\n",
        "\n",
        "text = \"python programming\"\n",
        "slised = text[:3]\n",
        "print(slised)\n"
      ],
      "metadata": {
        "colab": {
          "base_uri": "https://localhost:8080/"
        },
        "id": "OOLeS2EFCiYK",
        "outputId": "5f37c303-ba04-4c29-b42c-dddefc810f78"
      },
      "execution_count": null,
      "outputs": [
        {
          "output_type": "stream",
          "name": "stdout",
          "text": [
            "pyt\n"
          ]
        }
      ]
    },
    {
      "cell_type": "code",
      "source": [
        "4.#  Write a code to convert the string \"hello\" to uppercase.\n",
        "\n",
        "text = \"hello\"\n",
        "upper_text = text.upper()\n",
        "print(upper_text)"
      ],
      "metadata": {
        "colab": {
          "base_uri": "https://localhost:8080/"
        },
        "id": "9sIrnrlRCtGW",
        "outputId": "52ae5209-7add-4935-dee1-8cbde3b6c801"
      },
      "execution_count": null,
      "outputs": [
        {
          "output_type": "stream",
          "name": "stdout",
          "text": [
            "HELLO\n"
          ]
        }
      ]
    },
    {
      "cell_type": "code",
      "source": [
        "5.#Write a code to replace the word \"apple\" with \"orange\" in the string \"I like apple\"\n",
        "\n",
        "text = \"I like apple\"\n",
        "replace_text = text.replace(\"apple\",\"orange\")\n",
        "print(replace_text)"
      ],
      "metadata": {
        "colab": {
          "base_uri": "https://localhost:8080/"
        },
        "id": "-F45TyB4DbTg",
        "outputId": "b3e69cc9-e7ec-48b3-9f32-2c0164dc3f30"
      },
      "execution_count": null,
      "outputs": [
        {
          "output_type": "stream",
          "name": "stdout",
          "text": [
            "I like orange\n"
          ]
        }
      ]
    },
    {
      "cell_type": "markdown",
      "source": [],
      "metadata": {
        "id": "uchOLGEN_fEM"
      }
    },
    {
      "cell_type": "code",
      "source": [
        "6.# Write a code to create a list with numbers 1 to 5 and print it\n",
        "\n",
        "list = [1, 2, 3, 4, 5]\n",
        "print(list)\n"
      ],
      "metadata": {
        "colab": {
          "base_uri": "https://localhost:8080/"
        },
        "id": "b24F2LwQBbfc",
        "outputId": "842d530d-9585-4c92-c08c-57e02f255c7b"
      },
      "execution_count": null,
      "outputs": [
        {
          "output_type": "stream",
          "name": "stdout",
          "text": [
            "[1, 2, 3, 4, 5]\n"
          ]
        }
      ]
    },
    {
      "cell_type": "code",
      "source": [
        "7.#Write a code to append the number 10 to the list [1, 2, 3, 4]\n",
        "list = [1, 2, 3, 4]\n",
        "list.append(10)\n",
        "print(list)"
      ],
      "metadata": {
        "colab": {
          "base_uri": "https://localhost:8080/"
        },
        "id": "SKk8kNyyCFFl",
        "outputId": "0c28c60b-4063-459e-d871-e1925de66f00"
      },
      "execution_count": null,
      "outputs": [
        {
          "output_type": "stream",
          "name": "stdout",
          "text": [
            "[1, 2, 3, 4, 10]\n"
          ]
        }
      ]
    },
    {
      "cell_type": "code",
      "source": [
        "8.#Write a code to remove the number 3 from the list [1, 2, 3, 4, 5]\n",
        "\n",
        "list = [1, 2, 3, 4, 5]\n",
        "list.remove(3)\n",
        "print(list)"
      ],
      "metadata": {
        "colab": {
          "base_uri": "https://localhost:8080/"
        },
        "id": "JUZeUIZKGwoF",
        "outputId": "1796d9b1-be00-4f42-be4d-2c11e3503ea6"
      },
      "execution_count": null,
      "outputs": [
        {
          "output_type": "stream",
          "name": "stdout",
          "text": [
            "[1, 2, 4, 5]\n"
          ]
        }
      ]
    },
    {
      "cell_type": "code",
      "source": [
        "9.#Write a code to access the second element in the list ['a', 'b', 'c', 'd']\n",
        "\n",
        "list = ['a', 'b', 'c','d']\n",
        "print(list[1])"
      ],
      "metadata": {
        "colab": {
          "base_uri": "https://localhost:8080/"
        },
        "id": "jTCx1jKBH2mI",
        "outputId": "bdf01c0e-6278-45a2-bb34-ed0b2073091b"
      },
      "execution_count": null,
      "outputs": [
        {
          "output_type": "stream",
          "name": "stdout",
          "text": [
            "b\n"
          ]
        }
      ]
    },
    {
      "cell_type": "code",
      "source": [
        "10.# Write a code to reverse the list [10, 20, 30, 40, 50]\n",
        "list = [10, 20, 30, 40, 50]\n",
        "list.reverse()\n",
        "print(list)"
      ],
      "metadata": {
        "colab": {
          "base_uri": "https://localhost:8080/"
        },
        "id": "35viIFTqIZ7Z",
        "outputId": "9265865e-3225-4266-e6ee-e4affe72a3e2"
      },
      "execution_count": null,
      "outputs": [
        {
          "output_type": "stream",
          "name": "stdout",
          "text": [
            "[50, 40, 30, 20, 10]\n"
          ]
        }
      ]
    },
    {
      "cell_type": "code",
      "source": [
        "11.# Write a code to create a tuple with the elements 100, 200, 300 and print it.\n",
        "num = (100, 200, 300)\n",
        "print(num)"
      ],
      "metadata": {
        "colab": {
          "base_uri": "https://localhost:8080/"
        },
        "id": "juiQzuE9Ix69",
        "outputId": "db18dd67-b170-4b0a-de83-00a8fc0be6de"
      },
      "execution_count": null,
      "outputs": [
        {
          "output_type": "stream",
          "name": "stdout",
          "text": [
            "(100, 200, 300)\n"
          ]
        }
      ]
    },
    {
      "cell_type": "code",
      "source": [
        "12.#  Write a code to access the second-to-last element of the tuple ('red', 'green', 'blue', 'yellow').\n",
        "\n",
        "color = ('red', 'green', 'blue', 'yello')\n",
        "second_to_last = color[-2]\n",
        "print(second_to_last)"
      ],
      "metadata": {
        "colab": {
          "base_uri": "https://localhost:8080/"
        },
        "id": "Epq9uf_IOsbL",
        "outputId": "5908858e-da63-4871-f698-9a98d5291345"
      },
      "execution_count": null,
      "outputs": [
        {
          "output_type": "stream",
          "name": "stdout",
          "text": [
            "blue\n"
          ]
        }
      ]
    },
    {
      "cell_type": "code",
      "source": [
        "13.#Write a code to find the minimum number in the tuple (10, 20, 5, 15)\n",
        "num = (10, 20, 5, 15)\n",
        "minimum_num = min(num)\n",
        "print(minimum_num)\n"
      ],
      "metadata": {
        "colab": {
          "base_uri": "https://localhost:8080/"
        },
        "id": "t1JUabF7P0Og",
        "outputId": "dd439e4c-41c4-47f1-92b5-7f53e0d62b0a"
      },
      "execution_count": null,
      "outputs": [
        {
          "output_type": "stream",
          "name": "stdout",
          "text": [
            "5\n"
          ]
        }
      ]
    },
    {
      "cell_type": "code",
      "source": [
        "14.# Write a code to find the index of the element \"cat\" in the tuple ('dog', 'cat', 'rabbit')\n",
        "\n",
        "animal = ('dog', 'cat', 'rabbit')\n",
        "index = animal.index('cat')\n",
        "print(index)"
      ],
      "metadata": {
        "colab": {
          "base_uri": "https://localhost:8080/"
        },
        "id": "AB1tiIYpQSHn",
        "outputId": "2009ef79-9efd-401c-c43c-0e3f2e6c9029"
      },
      "execution_count": null,
      "outputs": [
        {
          "output_type": "stream",
          "name": "stdout",
          "text": [
            "1\n"
          ]
        }
      ]
    },
    {
      "cell_type": "code",
      "source": [
        "15.# Write a code to create a tuple containing three different fruits and check if \"kiwi\" is in it.\n",
        "fruits = ('apple', 'banana', 'orange')\n",
        "print('kiwi' in fruits)\n"
      ],
      "metadata": {
        "colab": {
          "base_uri": "https://localhost:8080/"
        },
        "id": "fkpq6mV6RG0b",
        "outputId": "4d237be1-0ceb-4290-99dd-a7586028c143"
      },
      "execution_count": null,
      "outputs": [
        {
          "output_type": "stream",
          "name": "stdout",
          "text": [
            "False\n"
          ]
        }
      ]
    },
    {
      "cell_type": "code",
      "source": [
        "16.# Write a code to create a set with the elements 'a', 'b', 'c' and print it\n",
        "\n",
        "my_set = {'a', 'b', 'c'}\n",
        "print(my_set)\n"
      ],
      "metadata": {
        "colab": {
          "base_uri": "https://localhost:8080/"
        },
        "id": "erZTPCUoR9IM",
        "outputId": "d00ee5d2-66fa-4a84-9761-02e8828f4eb2"
      },
      "execution_count": null,
      "outputs": [
        {
          "output_type": "stream",
          "name": "stdout",
          "text": [
            "{'b', 'c', 'a'}\n"
          ]
        }
      ]
    },
    {
      "cell_type": "code",
      "source": [
        "17.#Write a code to clear all elements from the set {1, 2, 3, 4, 5}.\n",
        "my_set = {1, 2, 3, 4, 5}\n",
        "my_set.clear()\n",
        "print(my_set)\n"
      ],
      "metadata": {
        "colab": {
          "base_uri": "https://localhost:8080/"
        },
        "id": "JdrzPbrgS40B",
        "outputId": "26d68947-2386-4ff7-c8a7-3a650680c6ad"
      },
      "execution_count": null,
      "outputs": [
        {
          "output_type": "stream",
          "name": "stdout",
          "text": [
            "set()\n"
          ]
        }
      ]
    },
    {
      "cell_type": "code",
      "source": [
        "18.#Write a code to remove the element 4 from the set {1, 2, 3, 4}\n",
        "my_set = {1, 2, 3, 4}\n",
        "my_set.remove(4)\n",
        "print(my_set)"
      ],
      "metadata": {
        "colab": {
          "base_uri": "https://localhost:8080/"
        },
        "id": "Me78N2m6UhXf",
        "outputId": "32302dd6-b3ac-46d6-ccb9-74dd9dab3b7b"
      },
      "execution_count": null,
      "outputs": [
        {
          "output_type": "stream",
          "name": "stdout",
          "text": [
            "{1, 2, 3}\n"
          ]
        }
      ]
    },
    {
      "cell_type": "code",
      "source": [
        "19.# Write a code to find the union of two sets {1, 2, 3} and {3, 4, 5}.\n",
        "set1 = {1, 2, 3}\n",
        "set2 = {3, 4, 5}\n",
        "\n",
        "union_set = set1.union(set2)\n",
        "print(union_set)"
      ],
      "metadata": {
        "colab": {
          "base_uri": "https://localhost:8080/"
        },
        "id": "cqmr7OgVU7J0",
        "outputId": "215a5a9a-c22f-4ffe-ac0d-de8488208be2"
      },
      "execution_count": null,
      "outputs": [
        {
          "output_type": "stream",
          "name": "stdout",
          "text": [
            "{1, 2, 3, 4, 5}\n"
          ]
        }
      ]
    },
    {
      "cell_type": "code",
      "source": [
        "20.# Write a code to find the intersection of two sets {1, 2, 3} and {2, 3, 4}.\n",
        "set1 = {1, 2, 3}\n",
        "set2 = {2, 3, 4}\n",
        "intersection_set = set1.intersection(set2)\n",
        "print(intersection_set)"
      ],
      "metadata": {
        "colab": {
          "base_uri": "https://localhost:8080/"
        },
        "id": "oBY9fQsGVg0w",
        "outputId": "bbe516e5-9372-47b0-e51c-c91555a7ee5f"
      },
      "execution_count": null,
      "outputs": [
        {
          "output_type": "stream",
          "name": "stdout",
          "text": [
            "{2, 3}\n"
          ]
        }
      ]
    },
    {
      "cell_type": "code",
      "source": [
        "21.# Write a code to create a dictionary with the keys \"name\", \"age\", and \"city\", and print it.\n",
        "person = {\"name\": \"Dev Biswas\", \"age\": 38, \"city\": \"Kolkata\"}\n",
        "print(person)"
      ],
      "metadata": {
        "colab": {
          "base_uri": "https://localhost:8080/"
        },
        "id": "2TO1j1vbV5y4",
        "outputId": "e51d76d2-59ce-4bbc-de52-785ef936fb4d"
      },
      "execution_count": null,
      "outputs": [
        {
          "output_type": "stream",
          "name": "stdout",
          "text": [
            "{'name': 'Dev Biswas', 'age': 38, 'city': 'Kolkata'}\n"
          ]
        }
      ]
    },
    {
      "cell_type": "code",
      "source": [
        "22.#Write a code to add a new key-value pair \"country\": \"USA\" to the dictionary {'name': 'John', 'age': 25}\n",
        "person = {\"name\": \"John\", \"age\":25}\n",
        "person[\"country\"] = \"USA\"\n",
        "print(person)"
      ],
      "metadata": {
        "colab": {
          "base_uri": "https://localhost:8080/"
        },
        "id": "KhWu7ySHYa_W",
        "outputId": "f8eb1eef-d7ea-427d-f213-03e8fbb408b9"
      },
      "execution_count": null,
      "outputs": [
        {
          "output_type": "stream",
          "name": "stdout",
          "text": [
            "{'name': 'John', 'age': 25, 'country': 'USA'}\n"
          ]
        }
      ]
    },
    {
      "cell_type": "code",
      "source": [
        "23.#  Write a code to access the value associated with the key \"name\" in the dictionary {'name': 'Alice', 'age': 30}\n",
        "person = {\"name\": \"Alice\", \"age\": \"30\"}\n",
        "print(person[\"name\"])"
      ],
      "metadata": {
        "colab": {
          "base_uri": "https://localhost:8080/"
        },
        "id": "9SxBYr2dZrt-",
        "outputId": "6dd2bfd5-815e-4849-b953-6b19d004bce8"
      },
      "execution_count": null,
      "outputs": [
        {
          "output_type": "stream",
          "name": "stdout",
          "text": [
            "Alice\n"
          ]
        }
      ]
    },
    {
      "cell_type": "code",
      "source": [
        "24.#Write a code to remove the key \"age\" from the dictionary {'name': 'Bob', 'age': 22, 'city': 'New York'}.\n",
        "person = {\"name\": \"Bob\", \"age\": 22, \"city\": \"New York\"}\n",
        "person.pop(\"age\")\n",
        "print(person)"
      ],
      "metadata": {
        "colab": {
          "base_uri": "https://localhost:8080/"
        },
        "id": "0SKISjm2bah_",
        "outputId": "338e7b76-9b09-460b-f94c-277f3e0ebc1c"
      },
      "execution_count": null,
      "outputs": [
        {
          "output_type": "stream",
          "name": "stdout",
          "text": [
            "{'name': 'Bob', 'city': 'New York'}\n"
          ]
        }
      ]
    },
    {
      "cell_type": "code",
      "source": [
        "25.# Write a code to check if the key \"city\" exists in the dictionary {'name': 'Alice', 'city': 'Paris'}\n",
        "person = {\"name\": \"Alice\", \"city\": \"Paris\"}\n",
        "print(\"city\" in person)"
      ],
      "metadata": {
        "colab": {
          "base_uri": "https://localhost:8080/"
        },
        "id": "5-EaiQEGcr47",
        "outputId": "5d95297b-f6f3-47bf-ee71-0c074775bdf4"
      },
      "execution_count": null,
      "outputs": [
        {
          "output_type": "stream",
          "name": "stdout",
          "text": [
            "True\n"
          ]
        }
      ]
    },
    {
      "cell_type": "code",
      "source": [
        "26.#  Write a code to create a list, a tuple, and a dictionary, and print them all.\n",
        "my_list = [1, 2, 3]\n",
        "my_tuple = (4, 5, 6)\n",
        "my_dict = {\"name\": \"Alice\", \"age\": 30}\n",
        "\n",
        "print(\"List:\", my_list)"
      ],
      "metadata": {
        "colab": {
          "base_uri": "https://localhost:8080/"
        },
        "id": "D8WVqmjrdaMq",
        "outputId": "255eb55f-7d30-4f44-da51-6014afb2754a"
      },
      "execution_count": null,
      "outputs": [
        {
          "output_type": "stream",
          "name": "stdout",
          "text": [
            "List: [1, 2, 3]\n"
          ]
        }
      ]
    },
    {
      "cell_type": "code",
      "source": [
        "print(my_tuple)"
      ],
      "metadata": {
        "colab": {
          "base_uri": "https://localhost:8080/"
        },
        "id": "jO6P8zfHd25t",
        "outputId": "94f1ffd9-3515-49d0-9378-46115d6c3d69"
      },
      "execution_count": null,
      "outputs": [
        {
          "output_type": "stream",
          "name": "stdout",
          "text": [
            "(4, 5, 6)\n"
          ]
        }
      ]
    },
    {
      "cell_type": "code",
      "source": [
        "print(my_dict)"
      ],
      "metadata": {
        "colab": {
          "base_uri": "https://localhost:8080/"
        },
        "id": "pSrLLHUBeVPj",
        "outputId": "86bf26ca-3ecb-4371-e28e-5ae0e2060995"
      },
      "execution_count": null,
      "outputs": [
        {
          "output_type": "stream",
          "name": "stdout",
          "text": [
            "{'name': 'Alice', 'age': 30}\n"
          ]
        }
      ]
    },
    {
      "cell_type": "code",
      "source": [
        "27.# Write a code to create a list of 5 random numbers between 1 and 100, sort it in ascending order, and print the result.\n",
        "my_list = [1, 95, 9, 5, 90]\n",
        "my_list.sort()\n",
        "print(my_list)\n"
      ],
      "metadata": {
        "colab": {
          "base_uri": "https://localhost:8080/"
        },
        "id": "ielAv9wMeYMX",
        "outputId": "04a4a119-d937-478e-e36a-44eb0ba53415"
      },
      "execution_count": null,
      "outputs": [
        {
          "output_type": "stream",
          "name": "stdout",
          "text": [
            "[1, 5, 9, 90, 95]\n"
          ]
        }
      ]
    },
    {
      "cell_type": "code",
      "source": [
        "28.#Write a code to create a list with strings and print the element at the third index.\n",
        "\n",
        "my_list = [\"apple\", \"banana\", \"cherry\", \"date\", \"elderberry\"]\n",
        "print(my_list[-3])"
      ],
      "metadata": {
        "colab": {
          "base_uri": "https://localhost:8080/"
        },
        "id": "p7povmNifM1A",
        "outputId": "6c772993-de19-469f-8baf-d28697a29672"
      },
      "execution_count": null,
      "outputs": [
        {
          "output_type": "stream",
          "name": "stdout",
          "text": [
            "cherry\n"
          ]
        }
      ]
    },
    {
      "cell_type": "code",
      "source": [
        "29.#  Write a code to combine two dictionaries into one and print the result.\n",
        "\n",
        "dic1 = {\"name\": \"Alice\", \"age\": 30}\n",
        "dic2 = {\"city\": \"Paris\", \"country\": \"France\"}\n",
        "dic1.update(dic2)\n",
        "print(dic1)"
      ],
      "metadata": {
        "colab": {
          "base_uri": "https://localhost:8080/"
        },
        "id": "TEVFQa7Gfmj6",
        "outputId": "e04fec3c-ab3e-41de-9cab-ae69ec99fdf1"
      },
      "execution_count": null,
      "outputs": [
        {
          "output_type": "stream",
          "name": "stdout",
          "text": [
            "{'name': 'Alice', 'age': 30, 'city': 'Paris', 'country': 'France'}\n"
          ]
        }
      ]
    },
    {
      "cell_type": "code",
      "source": [
        "30.# Write a code to convert a list of strings into a set\n",
        "my_list = [\"apple\", \"banana\", \"cherry\", \"apple\", \"banana\"]\n",
        "my_set = set(my_list)\n",
        "print(my_set)"
      ],
      "metadata": {
        "id": "wuZ3eURagvzk"
      },
      "execution_count": null,
      "outputs": []
    }
  ]
}